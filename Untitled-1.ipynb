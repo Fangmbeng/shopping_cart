{
 "cells": [
  {
   "cell_type": "code",
   "execution_count": 1,
   "metadata": {},
   "outputs": [
    {
     "name": "stdout",
     "output_type": "stream",
     "text": [
      "['Bread']\n",
      "['Bread', 'Orange']\n",
      "['Bread', 'Orange', 'Beans']\n"
     ]
    }
   ],
   "source": [
    "class cart:\n",
    "\n",
    "    def __init__(self, cart_1 = []):\n",
    "        self.cart_1 = cart_1\n",
    "\n",
    "    def add_item(self, item):\n",
    "        self.item = item\n",
    "        self.cart_1.append(self.item)\n",
    "        print(self.cart_1)\n",
    "        print(f\"{self.item} has been added to your shopping cart\")\n",
    "\n",
    "    def remove_item(self, item):\n",
    "        self.item = item\n",
    "        self.cart_1.remove(self.item)\n",
    "        try:\n",
    "            print(self.cart_1)\n",
    "            print(f\"{self.item} has been removed from your shopping cart\")\n",
    "\n",
    "        except:\n",
    "            print(self.cart)\n",
    "            print('Sorry we could not remove that item')\n",
    "\n",
    "    def show_cart(self):\n",
    "        print(self.cart_1)\n",
    "\n",
    "    def clear_cart(self):\n",
    "        self.cart.clear()\n",
    "        print(\"Your chart has been cleared\")\n",
    "\n",
    "    def main(self,):\n",
    "        while True:\n",
    "            action = input(\"Choose action:add, delete, quit, clear show chart: \").lower()\n",
    "            if action == \"quit\":\n",
    "                print(\"Thanks for shopping with us\")\n",
    "                break\n",
    "            elif action == \"add\":\n",
    "                self.item = input(\"What would you like to add: \").title()\n",
    "                self.cart_1.append(self.item)\n",
    "                print(self.cart_1)\n",
    "            elif action == \"remove\":\n",
    "                self.item = input(\"What would you like to add: \").title()\n",
    "                self.cart_1.remove(self.item)\n",
    "                print(self.cart_1)\n",
    "            elif action == \"show\":\n",
    "                print(self.cart_1)\n",
    "            elif action == \"clear\":\n",
    "                self.cart_1.clear()\n",
    "                print(self.cart_1)\n",
    "            else:\n",
    "                print(\"Unrecognized Action\")\n",
    "        return\n",
    "\n",
    "cart_1 = cart()\n",
    "cart_1.main()"
   ]
  }
 ],
 "metadata": {
  "kernelspec": {
   "display_name": "Python 3",
   "language": "python",
   "name": "python3"
  },
  "language_info": {
   "codemirror_mode": {
    "name": "ipython",
    "version": 3
   },
   "file_extension": ".py",
   "mimetype": "text/x-python",
   "name": "python",
   "nbconvert_exporter": "python",
   "pygments_lexer": "ipython3",
   "version": "3.9.1"
  },
  "orig_nbformat": 4
 },
 "nbformat": 4,
 "nbformat_minor": 2
}
